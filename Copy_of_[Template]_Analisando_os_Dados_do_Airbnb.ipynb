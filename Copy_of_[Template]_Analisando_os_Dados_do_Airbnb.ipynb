{
  "nbformat": 4,
  "nbformat_minor": 0,
  "metadata": {
    "colab": {
      "name": "Copy of [Template] Analisando os Dados do Airbnb.ipynb",
      "provenance": [],
      "collapsed_sections": [],
      "include_colab_link": true
    },
    "kernelspec": {
      "name": "python3",
      "display_name": "Python 3"
    }
  },
  "cells": [
    {
      "cell_type": "markdown",
      "metadata": {
        "id": "view-in-github",
        "colab_type": "text"
      },
      "source": [
        "<a href=\"https://colab.research.google.com/github/joaoaxerb/Data-Science/blob/master/Copy_of_%5BTemplate%5D_Analisando_os_Dados_do_Airbnb.ipynb\" target=\"_parent\"><img src=\"https://colab.research.google.com/assets/colab-badge.svg\" alt=\"Open In Colab\"/></a>"
      ]
    },
    {
      "cell_type": "markdown",
      "metadata": {
        "id": "kLI0gJtzDGuQ",
        "colab_type": "text"
      },
      "source": [
        "<img alt=\"Colaboratory logo\" width=\"70%\" src=\"https://github.com/joaoaxerb/Data-Science/raw/master/banner.png\">\n",
        "\n",
        "#### **Data Science na Prática 2.0**\n",
        "*by João Filipe Axer batista*\n",
        "\n",
        "---\n",
        "\n",
        "# Análise dos Dados do Airbnb - *Tokyo*\n",
        "\n",
        "O [Airbnb](https://www.airbnb.com.br/) já é considerado como sendo a **maior empresa hoteleira da atualidade**. Ah, o detalhe é que ele **não possui nenhum hotel**!\n",
        "\n",
        "Conectando pessoas que querem viajar (e se hospedar) com anfitriões que querem alugar seus imóveis de maneira prática, o Airbnb fornece uma plataforma inovadora para tornar essa hospedagem alternativa.\n",
        "\n",
        "No final de 2018, a Startup fundada 10 anos atrás, já havia **hospedado mais de 300 milhões** de pessoas ao redor de todo o mundo, desafiando as redes hoteleiras tradicionais.\n",
        "\n",
        "Uma das iniciativas do Airbnb é disponibilizar dados do site, para algumas das principais cidades do mundo. Por meio do portal [Inside Airbnb](http://insideairbnb.com/get-the-data.html), é possível baixar uma grande quantidade de dados para desenvolver projetos e soluções de *Data Science*.\n",
        "\n",
        "<center><img alt=\"Analisando Airbnb\" width=\"10%\" src=\"https://www.area360.com.au/wp-content/uploads/2017/09/airbnb-logo.jpg\"></center>\n",
        "\n",
        "**Neste *notebook*, iremos analisar os dados referentes à cidade de Tokyo, e ver quais insights podem ser extraídos a partir de dados brutos.**"
      ]
    },
    {
      "cell_type": "markdown",
      "metadata": {
        "id": "0zxQHhIUDF_2",
        "colab_type": "text"
      },
      "source": [
        "## Obtenção dos Dados\n",
        "Todos os dados foram obtidos através do site [Inside Airbnb](http://insideairbnb.com/index.html).\n",
        "\n",
        "para análise inicial exploratória, foi baixado apenas o seguinte arquivo:\n",
        "\n",
        "* *listing.csv* - *Summary information and metric for listing in Tokyo (Good for visualization).*\n"
      ]
    },
    {
      "cell_type": "code",
      "metadata": {
        "id": "Vhp2wMPgJ6zX",
        "colab_type": "code",
        "colab": {
          "base_uri": "https://localhost:8080/",
          "height": 74
        },
        "outputId": "f9fabb86-987a-4f96-92b5-17d0fc90936e"
      },
      "source": [
        "# importar os pacotes necessarios\n",
        "import pandas as pd\n",
        "import matplotlib.pyplot as plt\n",
        "import seaborn as sns\n",
        "\n",
        "%matplotlib inline"
      ],
      "execution_count": 3,
      "outputs": [
        {
          "output_type": "stream",
          "text": [
            "/usr/local/lib/python3.6/dist-packages/statsmodels/tools/_testing.py:19: FutureWarning: pandas.util.testing is deprecated. Use the functions in the public API at pandas.testing instead.\n",
            "  import pandas.util.testing as tm\n"
          ],
          "name": "stderr"
        }
      ]
    },
    {
      "cell_type": "code",
      "metadata": {
        "id": "tUmoAT8DLQ5T",
        "colab_type": "code",
        "colab": {}
      },
      "source": [
        "# importar o arquivo listings.csv para um DataFrame\n",
        "df = pd.read_csv('http://data.insideairbnb.com/japan/kant%C5%8D/tokyo/2020-04-28/visualisations/listings.csv')\n"
      ],
      "execution_count": 0,
      "outputs": []
    },
    {
      "cell_type": "markdown",
      "metadata": {
        "id": "qb5By2nIMS6m",
        "colab_type": "text"
      },
      "source": [
        "## Análise dos Dados\n",
        "Esta etapa tem como objetivo, dar uma visão geral dos dados e como os mesmos estão estruturados.\n"
      ]
    },
    {
      "cell_type": "markdown",
      "metadata": {
        "id": "RYgvuebKNg8-",
        "colab_type": "text"
      },
      "source": [
        "**Dicionário das variáveis**\n",
        "\n",
        "* `id` - número de id gerado para identificar o imóvel\n",
        "* `name` - nome da propriedade anunciada\n",
        "* `host_id` - número de id do proprietário (anfitrião) da propriedade\n",
        "* `host_name` - Nome do anfitrião\n",
        "* `neighbourhood_group` - esta coluna não contém nenhum valor válido\n",
        "* `neighbourhood` - nome do bairro\n",
        "* `latitude` - coordenada da latitude da propriedade\n",
        "* `longitude` - coordenada da longitude da propriedade\n",
        "* `room_type` - informa o tipo de quarto que é oferecido\n",
        "* `price` - preço para alugar o imóvel\n",
        "* `minimum_nights` - quantidade mínima de noites para reservar\n",
        "* `number_of_reviews` - número de reviews que a propriedade possui\n",
        "* `last_review` - data do último review\n",
        "* `reviews_per_month` - quantidade de reviews por mês\n",
        "* `calculated_host_listings_count` - quantidade de imóveis do mesmo anfitrião\n",
        "* `availability_365` - número de dias de disponibilidade dentro de 365 dias\n",
        "\n",
        "Antes de iniciar qualquer análise, vamos verificar a cara do nosso *dataset*, analisando as 5 primeiras entradas."
      ]
    },
    {
      "cell_type": "code",
      "metadata": {
        "id": "2iS_dae7YQtO",
        "colab_type": "code",
        "outputId": "bbbe75f9-0dfc-4b9e-a833-6cbd42e6e38a",
        "colab": {
          "base_uri": "https://localhost:8080/",
          "height": 460
        }
      },
      "source": [
        "# mostrar as 5 primeiras entradas\n",
        "df.head()\n"
      ],
      "execution_count": 5,
      "outputs": [
        {
          "output_type": "execute_result",
          "data": {
            "text/html": [
              "<div>\n",
              "<style scoped>\n",
              "    .dataframe tbody tr th:only-of-type {\n",
              "        vertical-align: middle;\n",
              "    }\n",
              "\n",
              "    .dataframe tbody tr th {\n",
              "        vertical-align: top;\n",
              "    }\n",
              "\n",
              "    .dataframe thead th {\n",
              "        text-align: right;\n",
              "    }\n",
              "</style>\n",
              "<table border=\"1\" class=\"dataframe\">\n",
              "  <thead>\n",
              "    <tr style=\"text-align: right;\">\n",
              "      <th></th>\n",
              "      <th>id</th>\n",
              "      <th>name</th>\n",
              "      <th>host_id</th>\n",
              "      <th>host_name</th>\n",
              "      <th>neighbourhood_group</th>\n",
              "      <th>neighbourhood</th>\n",
              "      <th>latitude</th>\n",
              "      <th>longitude</th>\n",
              "      <th>room_type</th>\n",
              "      <th>price</th>\n",
              "      <th>minimum_nights</th>\n",
              "      <th>number_of_reviews</th>\n",
              "      <th>last_review</th>\n",
              "      <th>reviews_per_month</th>\n",
              "      <th>calculated_host_listings_count</th>\n",
              "      <th>availability_365</th>\n",
              "    </tr>\n",
              "  </thead>\n",
              "  <tbody>\n",
              "    <tr>\n",
              "      <th>0</th>\n",
              "      <td>35303</td>\n",
              "      <td>La Casa Gaienmae C Harajuku, Omotesando is nearby</td>\n",
              "      <td>151977</td>\n",
              "      <td>Miyuki</td>\n",
              "      <td>NaN</td>\n",
              "      <td>Shibuya Ku</td>\n",
              "      <td>35.67152</td>\n",
              "      <td>139.71203</td>\n",
              "      <td>Private room</td>\n",
              "      <td>4183</td>\n",
              "      <td>28</td>\n",
              "      <td>18</td>\n",
              "      <td>2018-07-28</td>\n",
              "      <td>0.18</td>\n",
              "      <td>3</td>\n",
              "      <td>89</td>\n",
              "    </tr>\n",
              "    <tr>\n",
              "      <th>1</th>\n",
              "      <td>197677</td>\n",
              "      <td>Oshiage Holiday Apartment</td>\n",
              "      <td>964081</td>\n",
              "      <td>Yoshimi &amp; Marek</td>\n",
              "      <td>NaN</td>\n",
              "      <td>Sumida Ku</td>\n",
              "      <td>35.71721</td>\n",
              "      <td>139.82596</td>\n",
              "      <td>Entire home/apt</td>\n",
              "      <td>11048</td>\n",
              "      <td>3</td>\n",
              "      <td>165</td>\n",
              "      <td>2020-03-04</td>\n",
              "      <td>1.57</td>\n",
              "      <td>1</td>\n",
              "      <td>271</td>\n",
              "    </tr>\n",
              "    <tr>\n",
              "      <th>2</th>\n",
              "      <td>289597</td>\n",
              "      <td>Private apt in central Tokyo #203</td>\n",
              "      <td>341577</td>\n",
              "      <td>Hide&amp;Kei</td>\n",
              "      <td>NaN</td>\n",
              "      <td>Nerima Ku</td>\n",
              "      <td>35.74267</td>\n",
              "      <td>139.65810</td>\n",
              "      <td>Entire home/apt</td>\n",
              "      <td>4171</td>\n",
              "      <td>28</td>\n",
              "      <td>113</td>\n",
              "      <td>2020-02-17</td>\n",
              "      <td>1.18</td>\n",
              "      <td>2</td>\n",
              "      <td>241</td>\n",
              "    </tr>\n",
              "    <tr>\n",
              "      <th>3</th>\n",
              "      <td>370759</td>\n",
              "      <td>Cozy flat #203, local area YET 10 mins to shib...</td>\n",
              "      <td>1573631</td>\n",
              "      <td>Gilles,Mayumi,Taiki</td>\n",
              "      <td>NaN</td>\n",
              "      <td>Setagaya Ku</td>\n",
              "      <td>35.66443</td>\n",
              "      <td>139.65707</td>\n",
              "      <td>Entire home/apt</td>\n",
              "      <td>6952</td>\n",
              "      <td>28</td>\n",
              "      <td>103</td>\n",
              "      <td>2020-04-16</td>\n",
              "      <td>1.39</td>\n",
              "      <td>3</td>\n",
              "      <td>364</td>\n",
              "    </tr>\n",
              "    <tr>\n",
              "      <th>4</th>\n",
              "      <td>700253</td>\n",
              "      <td>Private apt in central Tokyo #201</td>\n",
              "      <td>341577</td>\n",
              "      <td>Hide&amp;Kei</td>\n",
              "      <td>NaN</td>\n",
              "      <td>Nerima Ku</td>\n",
              "      <td>35.74264</td>\n",
              "      <td>139.65832</td>\n",
              "      <td>Entire home/apt</td>\n",
              "      <td>3957</td>\n",
              "      <td>28</td>\n",
              "      <td>103</td>\n",
              "      <td>2019-10-04</td>\n",
              "      <td>1.12</td>\n",
              "      <td>2</td>\n",
              "      <td>340</td>\n",
              "    </tr>\n",
              "  </tbody>\n",
              "</table>\n",
              "</div>"
            ],
            "text/plain": [
              "       id  ... availability_365\n",
              "0   35303  ...               89\n",
              "1  197677  ...              271\n",
              "2  289597  ...              241\n",
              "3  370759  ...              364\n",
              "4  700253  ...              340\n",
              "\n",
              "[5 rows x 16 columns]"
            ]
          },
          "metadata": {
            "tags": []
          },
          "execution_count": 5
        }
      ]
    },
    {
      "cell_type": "markdown",
      "metadata": {
        "id": "6-B_qtEaYEd-",
        "colab_type": "text"
      },
      "source": [
        "### **Q1. Quantos atributos (variáveis) e quantas entradas o nosso conjunto de dados possui? Quais os tipos das variáveis?**\n",
        "\n",
        "Vamos prosseguir e identificar a quantidade de entradas que nosso conjunto de dados possui e ver os tipos de cada coluna.\n",
        "\n",
        "Este *dataset* que baixamos é a versão \"resumida\" do Airbnb. Na mesma página que baixamos o arquivo `listings.csv`. Há uma versão mais completa com 35847 entradas e 106 variáveis (`listings.csv.gz`)."
      ]
    },
    {
      "cell_type": "code",
      "metadata": {
        "id": "TFRK0tniLV-G",
        "colab_type": "code",
        "outputId": "40bcd0da-d96e-4740-948a-93face996bd6",
        "colab": {
          "base_uri": "https://localhost:8080/",
          "height": 381
        }
      },
      "source": [
        "# identificar o volume de dados do DataFrame\n",
        "print('Entradas:\\t {}'.format(df.shape[0]))\n",
        "print('Variaveis:\\t {}\\n'.format(df.shape[1]))\n",
        "\n",
        "# verificar as 5 primeiras entradas do dataset\n",
        "display(df.dtypes)\n"
      ],
      "execution_count": 0,
      "outputs": [
        {
          "output_type": "stream",
          "text": [
            "Entradas:\t 15352\n",
            "Variaveis:\t 16\n",
            "\n"
          ],
          "name": "stdout"
        },
        {
          "output_type": "display_data",
          "data": {
            "text/plain": [
              "id                                  int64\n",
              "name                               object\n",
              "host_id                             int64\n",
              "host_name                          object\n",
              "neighbourhood_group               float64\n",
              "neighbourhood                      object\n",
              "latitude                          float64\n",
              "longitude                         float64\n",
              "room_type                          object\n",
              "price                               int64\n",
              "minimum_nights                      int64\n",
              "number_of_reviews                   int64\n",
              "last_review                        object\n",
              "reviews_per_month                 float64\n",
              "calculated_host_listings_count      int64\n",
              "availability_365                    int64\n",
              "dtype: object"
            ]
          },
          "metadata": {
            "tags": []
          }
        }
      ]
    },
    {
      "cell_type": "markdown",
      "metadata": {
        "id": "yz1urSUGW9iE",
        "colab_type": "text"
      },
      "source": [
        "### **Q2. Qual a porcentagem de valores ausentes no *dataset*?**\n",
        "\n",
        "A qualidade de um *dataset* está diretamente relacionada à quantidade de valores ausentes. É importante entender logo no início se esses valores nulos são significativos comparados ao total de entradas.\n",
        "\n",
        "* É possível ver que a coluna `neighbourhood_group` possui 100% dos seus valores faltantes. \n",
        "* As variáveis `reviews_per_month` e `last_review` possuem valores nulos em poucas linhas.\n"
      ]
    },
    {
      "cell_type": "code",
      "metadata": {
        "id": "plk2FjbCXOqP",
        "colab_type": "code",
        "outputId": "f060f13e-6aca-42d7-f01b-c4b41a834bb3",
        "colab": {
          "base_uri": "https://localhost:8080/",
          "height": 326
        }
      },
      "source": [
        "# ordenar em ordem decrescente as variáveis por seus valores ausentes\n",
        "(df.isnull().sum() / df.shape[0]).sort_values(ascending=False)\n"
      ],
      "execution_count": 0,
      "outputs": [
        {
          "output_type": "execute_result",
          "data": {
            "text/plain": [
              "neighbourhood_group               1.000000\n",
              "reviews_per_month                 0.170010\n",
              "last_review                       0.170010\n",
              "host_name                         0.000717\n",
              "availability_365                  0.000000\n",
              "calculated_host_listings_count    0.000000\n",
              "number_of_reviews                 0.000000\n",
              "minimum_nights                    0.000000\n",
              "price                             0.000000\n",
              "room_type                         0.000000\n",
              "longitude                         0.000000\n",
              "latitude                          0.000000\n",
              "neighbourhood                     0.000000\n",
              "host_id                           0.000000\n",
              "name                              0.000000\n",
              "id                                0.000000\n",
              "dtype: float64"
            ]
          },
          "metadata": {
            "tags": []
          },
          "execution_count": 27
        }
      ]
    },
    {
      "cell_type": "markdown",
      "metadata": {
        "id": "iHXvvHIxaoNc",
        "colab_type": "text"
      },
      "source": [
        "### **Q3. Qual o tipo de distribuição das variáveis?** \n",
        "\n",
        "Para identificar a distribuição de variáveis, irei plotar o histograma."
      ]
    },
    {
      "cell_type": "code",
      "metadata": {
        "id": "q2wWSfeRbmBo",
        "colab_type": "code",
        "outputId": "39a8d0be-6ede-45a5-ad75-d389a95c74aa",
        "colab": {
          "base_uri": "https://localhost:8080/",
          "height": 620
        }
      },
      "source": [
        "# plotar o histograma das variáveis numéricas\n",
        "df.hist(bins=15, figsize=(15,10));"
      ],
      "execution_count": 0,
      "outputs": [
        {
          "output_type": "display_data",
          "data": {
            "image/png": "[encoded data removed]",
            "text/plain": [
              "<Figure size 1080x720 with 12 Axes>"
            ]
          },
          "metadata": {
            "tags": [],
            "needs_background": "light"
          }
        }
      ]
    },
    {
      "cell_type": "markdown",
      "metadata": {
        "id": "wciUeqspVvEX",
        "colab_type": "text"
      },
      "source": [
        "###**Q4. Há *Outliers* presentes?**###\n",
        "\n",
        "Pela distribuição do histograma, é possível verificar indícios da presença de *outliers*. Olhe por exemplo as variáveis `price`, `minimum_nights` e `calculated_host_listings_count`.\n",
        "\n",
        "Os valores não seguem uma distruição, e distorcem toda a representação gráfica. Para confirmar, há duas maneiras rápidas que auxiliam a detecção de *outliers*. São elas:\n",
        "\n",
        "* Resumo estatístico por meio do método `describe()`\n",
        "* Plotar `boxplots` para a variável."
      ]
    },
    {
      "cell_type": "code",
      "metadata": {
        "id": "HmekVeycWVRW",
        "colab_type": "code",
        "outputId": "90c31483-60b3-4c69-9c1e-901a66eed1a1",
        "colab": {
          "base_uri": "https://localhost:8080/",
          "height": 288
        }
      },
      "source": [
        "# ver o resumo estatístico das variáveis numéricas\n",
        "df[['price', 'minimum_nights', 'number_of_reviews', 'reviews_per_month', 'calculated_host_listings_count','availability_365',]].describe()"
      ],
      "execution_count": 0,
      "outputs": [
        {
          "output_type": "execute_result",
          "data": {
            "text/html": [
              "<div>\n",
              "<style scoped>\n",
              "    .dataframe tbody tr th:only-of-type {\n",
              "        vertical-align: middle;\n",
              "    }\n",
              "\n",
              "    .dataframe tbody tr th {\n",
              "        vertical-align: top;\n",
              "    }\n",
              "\n",
              "    .dataframe thead th {\n",
              "        text-align: right;\n",
              "    }\n",
              "</style>\n",
              "<table border=\"1\" class=\"dataframe\">\n",
              "  <thead>\n",
              "    <tr style=\"text-align: right;\">\n",
              "      <th></th>\n",
              "      <th>price</th>\n",
              "      <th>minimum_nights</th>\n",
              "      <th>number_of_reviews</th>\n",
              "      <th>reviews_per_month</th>\n",
              "      <th>calculated_host_listings_count</th>\n",
              "      <th>availability_365</th>\n",
              "    </tr>\n",
              "  </thead>\n",
              "  <tbody>\n",
              "    <tr>\n",
              "      <th>count</th>\n",
              "      <td>1.535200e+04</td>\n",
              "      <td>15352.000000</td>\n",
              "      <td>15352.000000</td>\n",
              "      <td>12742.000000</td>\n",
              "      <td>15352.000000</td>\n",
              "      <td>15352.000000</td>\n",
              "    </tr>\n",
              "    <tr>\n",
              "      <th>mean</th>\n",
              "      <td>2.624158e+04</td>\n",
              "      <td>3.293968</td>\n",
              "      <td>26.542731</td>\n",
              "      <td>1.695281</td>\n",
              "      <td>13.434732</td>\n",
              "      <td>155.732348</td>\n",
              "    </tr>\n",
              "    <tr>\n",
              "      <th>std</th>\n",
              "      <td>7.636344e+04</td>\n",
              "      <td>9.114849</td>\n",
              "      <td>40.566386</td>\n",
              "      <td>1.365650</td>\n",
              "      <td>15.399161</td>\n",
              "      <td>115.567651</td>\n",
              "    </tr>\n",
              "    <tr>\n",
              "      <th>min</th>\n",
              "      <td>0.000000e+00</td>\n",
              "      <td>1.000000</td>\n",
              "      <td>0.000000</td>\n",
              "      <td>0.020000</td>\n",
              "      <td>1.000000</td>\n",
              "      <td>0.000000</td>\n",
              "    </tr>\n",
              "    <tr>\n",
              "      <th>25%</th>\n",
              "      <td>6.952000e+03</td>\n",
              "      <td>1.000000</td>\n",
              "      <td>2.000000</td>\n",
              "      <td>0.690000</td>\n",
              "      <td>3.000000</td>\n",
              "      <td>63.000000</td>\n",
              "    </tr>\n",
              "    <tr>\n",
              "      <th>50%</th>\n",
              "      <td>1.197900e+04</td>\n",
              "      <td>1.000000</td>\n",
              "      <td>11.000000</td>\n",
              "      <td>1.500000</td>\n",
              "      <td>8.000000</td>\n",
              "      <td>150.000000</td>\n",
              "    </tr>\n",
              "    <tr>\n",
              "      <th>75%</th>\n",
              "      <td>2.000100e+04</td>\n",
              "      <td>2.000000</td>\n",
              "      <td>34.000000</td>\n",
              "      <td>2.400000</td>\n",
              "      <td>18.000000</td>\n",
              "      <td>247.000000</td>\n",
              "    </tr>\n",
              "    <tr>\n",
              "      <th>max</th>\n",
              "      <td>1.000053e+06</td>\n",
              "      <td>365.000000</td>\n",
              "      <td>529.000000</td>\n",
              "      <td>43.600000</td>\n",
              "      <td>98.000000</td>\n",
              "      <td>365.000000</td>\n",
              "    </tr>\n",
              "  </tbody>\n",
              "</table>\n",
              "</div>"
            ],
            "text/plain": [
              "              price  ...  availability_365\n",
              "count  1.535200e+04  ...      15352.000000\n",
              "mean   2.624158e+04  ...        155.732348\n",
              "std    7.636344e+04  ...        115.567651\n",
              "min    0.000000e+00  ...          0.000000\n",
              "25%    6.952000e+03  ...         63.000000\n",
              "50%    1.197900e+04  ...        150.000000\n",
              "75%    2.000100e+04  ...        247.000000\n",
              "max    1.000053e+06  ...        365.000000\n",
              "\n",
              "[8 rows x 6 columns]"
            ]
          },
          "metadata": {
            "tags": []
          },
          "execution_count": 35
        }
      ]
    },
    {
      "cell_type": "markdown",
      "metadata": {
        "id": "JWZ-w7197YMq",
        "colab_type": "text"
      },
      "source": [
        "Olhando o resumo estatístico acima, podemos confirmar algumas hipóteses como:\n",
        "\n",
        "* A variável `price` possui 75% do valor abaixo de 2000, porém seu valor máximo é 10000053.\n",
        "* A variável `minimum_nights` possui 75% do valor abaixo de 2, porém seu valor máximo é 365.\n",
        "\n",
        "#### Boxplot para minimum_nights"
      ]
    },
    {
      "cell_type": "code",
      "metadata": {
        "id": "s1Dqe7Bl5q9W",
        "colab_type": "code",
        "outputId": "a670a1d6-d711-4d1d-a84c-58d79d47e954",
        "colab": {
          "base_uri": "https://localhost:8080/",
          "height": 265
        }
      },
      "source": [
        "# minimum_nights\n",
        "df.minimum_nights.plot(kind='box', vert=False, figsize=(15, 3))\n",
        "plt.show()\n",
        "\n",
        "# ver quantidade de valores acima de 30 dias para minimum_nights\n",
        "print(\"minimum_nights: valores acima de 30:\")\n",
        "print(\"{} entradas\".format(len(df[df.minimum_nights > 30])))\n",
        "print(\"{:.4f}%\".format((len(df[df.minimum_nights > 30]) / df.shape[0])*100))"
      ],
      "execution_count": 0,
      "outputs": [
        {
          "output_type": "display_data",
          "data": {
            "image/png": "[encoded data removed]",
            "text/plain": [
              "<Figure size 1080x216 with 1 Axes>"
            ]
          },
          "metadata": {
            "tags": [],
            "needs_background": "light"
          }
        },
        {
          "output_type": "stream",
          "text": [
            "minimum_nights: valores acima de 30:\n",
            "45 entradas\n",
            "0.2931%\n"
          ],
          "name": "stdout"
        }
      ]
    },
    {
      "cell_type": "markdown",
      "metadata": {
        "id": "OkHK7tbr7nor",
        "colab_type": "text"
      },
      "source": [
        "#### Boxplot para price"
      ]
    },
    {
      "cell_type": "code",
      "metadata": {
        "id": "NMr0vz_A7tPV",
        "colab_type": "code",
        "outputId": "c229aaed-e3bd-4318-b619-cbdde2f91fd8",
        "colab": {
          "base_uri": "https://localhost:8080/",
          "height": 296
        }
      },
      "source": [
        "# price\n",
        "df.price.plot(kind='box', vert=False, figsize=(15, 3),)\n",
        "plt.show()\n",
        "\n",
        "# ver quantidade de valores acima de 50000 para price\n",
        "print(\"\\nprice: valores acima de 50000\")\n",
        "print(\"{} entradas\".format(len(df[df.price > 50000])))\n",
        "print(\"{:.4f}%\".format((len(df[df.price > 50000]) / df.shape[0])*100))\n",
        "\n",
        "# df.price.plot(kind='box', vert=False, xlim=(0,1300), figsize=(15,3));"
      ],
      "execution_count": 0,
      "outputs": [
        {
          "output_type": "display_data",
          "data": {
            "image/png": "[encoded data removed]",
            "text/plain": [
              "<Figure size 1080x216 with 1 Axes>"
            ]
          },
          "metadata": {
            "tags": [],
            "needs_background": "light"
          }
        },
        {
          "output_type": "stream",
          "text": [
            "\n",
            "price: valores acima de 50000\n",
            "986 entradas\n",
            "6.4226%\n"
          ],
          "name": "stdout"
        }
      ]
    },
    {
      "cell_type": "markdown",
      "metadata": {
        "id": "rc-z9YdQOmf5",
        "colab_type": "text"
      },
      "source": [
        "#### Histogramas sem *outliers*\n",
        "\n",
        "Já que identificamos *outliers* nas variáveis `price` e `minimum_nights`, vamos agora limpar o *DataFrame* delas e plotar novamente o histograma."
      ]
    },
    {
      "cell_type": "code",
      "metadata": {
        "id": "PGm4HGULOoTr",
        "colab_type": "code",
        "colab": {
          "base_uri": "https://localhost:8080/",
          "height": 607
        },
        "outputId": "b01d6498-bee8-4338-c292-339244e7ed9d"
      },
      "source": [
        "# remover os *outliers* em um novo DataFrame\n",
        "df_clean = df.copy()\n",
        "df_clean.drop(df_clean[df_clean.price > 5000].index, axis=0, inplace=True)\n",
        "df_clean.drop(df_clean[df_clean.minimum_nights > 30].index, axis=0, inplace=True)\n",
        "\n",
        "# remover `neighbourhood_group`, pois está vazio\n",
        "df_clean.drop('neighbourhood_group', axis=1, inplace=True)\n",
        "\n",
        "# plotar o histograma para as variáveis numéricas\n",
        "df_clean.hist(bins=15, figsize=(15,10));"
      ],
      "execution_count": 6,
      "outputs": [
        {
          "output_type": "display_data",
          "data": {
            "image/png": "[encoded data removed]",
            "text/plain": [
              "<Figure size 1080x720 with 12 Axes>"
            ]
          },
          "metadata": {
            "tags": [],
            "needs_background": "light"
          }
        }
      ]
    },
    {
      "cell_type": "markdown",
      "metadata": {
        "id": "7x4aw1j5wNmn",
        "colab_type": "text"
      },
      "source": [
        "### **Q4. Qual a média dos preços de aluguel?**"
      ]
    },
    {
      "cell_type": "code",
      "metadata": {
        "id": "ff-8gUahLk-C",
        "colab_type": "code",
        "outputId": "6948e8b5-a106-4f06-f054-68c29e21537e",
        "colab": {
          "base_uri": "https://localhost:8080/",
          "height": 35
        }
      },
      "source": [
        "# ver a média da coluna `price``\n",
        "df.price.mean()\n"
      ],
      "execution_count": 0,
      "outputs": [
        {
          "output_type": "execute_result",
          "data": {
            "text/plain": [
              "26241.576667535173"
            ]
          },
          "metadata": {
            "tags": []
          },
          "execution_count": 29
        }
      ]
    },
    {
      "cell_type": "markdown",
      "metadata": {
        "id": "IXn2oIo5qx-w",
        "colab_type": "text"
      },
      "source": [
        "### **Q4. Qual a correlação existente entre as variáveis**\n",
        "\n",
        "Correlação significa que existe uma relação entre duas coisas. No nosso contexto, estamos buscando relação ou semelhança entre duas variáveis.\n",
        "\n",
        "Essa relação pode ser medida, e é função do coeficiente de correlação estabelecer qual a intensidade dela. Para identificar as correlações existentes entre as variáveis de interesse, vou:\n",
        "\n",
        "* Criar uma matriz de correlação\n",
        "* Gerar um *heatmap* a partir dessa matriz, usando a biblioteca `seaborn`"
      ]
    },
    {
      "cell_type": "code",
      "metadata": {
        "id": "x2ayzBajqxyd",
        "colab_type": "code",
        "colab": {
          "base_uri": "https://localhost:8080/",
          "height": 368
        },
        "outputId": "5f42f166-8493-4103-f89c-1cf520ef34ac"
      },
      "source": [
        "# criar uma matriz de correlação\n",
        "\n",
        "corr = df_clean[['price', 'minimum_nights', 'number_of_reviews', 'reviews_per_month',\n",
        "    'calculated_host_listings_count', 'availability_365']].corr()\n",
        "\n",
        "# mostrar a matriz de correlação\n",
        "display(df_clean.corr())\n"
      ],
      "execution_count": 7,
      "outputs": [
        {
          "output_type": "display_data",
          "data": {
            "text/html": [
              "<div>\n",
              "<style scoped>\n",
              "    .dataframe tbody tr th:only-of-type {\n",
              "        vertical-align: middle;\n",
              "    }\n",
              "\n",
              "    .dataframe tbody tr th {\n",
              "        vertical-align: top;\n",
              "    }\n",
              "\n",
              "    .dataframe thead th {\n",
              "        text-align: right;\n",
              "    }\n",
              "</style>\n",
              "<table border=\"1\" class=\"dataframe\">\n",
              "  <thead>\n",
              "    <tr style=\"text-align: right;\">\n",
              "      <th></th>\n",
              "      <th>id</th>\n",
              "      <th>host_id</th>\n",
              "      <th>latitude</th>\n",
              "      <th>longitude</th>\n",
              "      <th>price</th>\n",
              "      <th>minimum_nights</th>\n",
              "      <th>number_of_reviews</th>\n",
              "      <th>reviews_per_month</th>\n",
              "      <th>calculated_host_listings_count</th>\n",
              "      <th>availability_365</th>\n",
              "    </tr>\n",
              "  </thead>\n",
              "  <tbody>\n",
              "    <tr>\n",
              "      <th>id</th>\n",
              "      <td>1.000000</td>\n",
              "      <td>0.634373</td>\n",
              "      <td>-0.013480</td>\n",
              "      <td>0.097576</td>\n",
              "      <td>-0.009748</td>\n",
              "      <td>-0.163636</td>\n",
              "      <td>-0.582700</td>\n",
              "      <td>-0.092487</td>\n",
              "      <td>0.141969</td>\n",
              "      <td>-0.034818</td>\n",
              "    </tr>\n",
              "    <tr>\n",
              "      <th>host_id</th>\n",
              "      <td>0.634373</td>\n",
              "      <td>1.000000</td>\n",
              "      <td>-0.009614</td>\n",
              "      <td>0.070748</td>\n",
              "      <td>-0.014498</td>\n",
              "      <td>-0.225374</td>\n",
              "      <td>-0.327073</td>\n",
              "      <td>0.037797</td>\n",
              "      <td>0.098235</td>\n",
              "      <td>-0.041393</td>\n",
              "    </tr>\n",
              "    <tr>\n",
              "      <th>latitude</th>\n",
              "      <td>-0.013480</td>\n",
              "      <td>-0.009614</td>\n",
              "      <td>1.000000</td>\n",
              "      <td>0.135204</td>\n",
              "      <td>-0.135157</td>\n",
              "      <td>0.054804</td>\n",
              "      <td>-0.001243</td>\n",
              "      <td>-0.017527</td>\n",
              "      <td>0.085966</td>\n",
              "      <td>0.028180</td>\n",
              "    </tr>\n",
              "    <tr>\n",
              "      <th>longitude</th>\n",
              "      <td>0.097576</td>\n",
              "      <td>0.070748</td>\n",
              "      <td>0.135204</td>\n",
              "      <td>1.000000</td>\n",
              "      <td>-0.132755</td>\n",
              "      <td>-0.019756</td>\n",
              "      <td>0.007751</td>\n",
              "      <td>0.068191</td>\n",
              "      <td>0.133100</td>\n",
              "      <td>-0.013536</td>\n",
              "    </tr>\n",
              "    <tr>\n",
              "      <th>price</th>\n",
              "      <td>-0.009748</td>\n",
              "      <td>-0.014498</td>\n",
              "      <td>-0.135157</td>\n",
              "      <td>-0.132755</td>\n",
              "      <td>1.000000</td>\n",
              "      <td>-0.198915</td>\n",
              "      <td>0.097682</td>\n",
              "      <td>0.063131</td>\n",
              "      <td>-0.283633</td>\n",
              "      <td>0.015622</td>\n",
              "    </tr>\n",
              "    <tr>\n",
              "      <th>minimum_nights</th>\n",
              "      <td>-0.163636</td>\n",
              "      <td>-0.225374</td>\n",
              "      <td>0.054804</td>\n",
              "      <td>-0.019756</td>\n",
              "      <td>-0.198915</td>\n",
              "      <td>1.000000</td>\n",
              "      <td>-0.111765</td>\n",
              "      <td>-0.194144</td>\n",
              "      <td>0.319189</td>\n",
              "      <td>0.023679</td>\n",
              "    </tr>\n",
              "    <tr>\n",
              "      <th>number_of_reviews</th>\n",
              "      <td>-0.582700</td>\n",
              "      <td>-0.327073</td>\n",
              "      <td>-0.001243</td>\n",
              "      <td>0.007751</td>\n",
              "      <td>0.097682</td>\n",
              "      <td>-0.111765</td>\n",
              "      <td>1.000000</td>\n",
              "      <td>0.768156</td>\n",
              "      <td>-0.231552</td>\n",
              "      <td>0.079318</td>\n",
              "    </tr>\n",
              "    <tr>\n",
              "      <th>reviews_per_month</th>\n",
              "      <td>-0.092487</td>\n",
              "      <td>0.037797</td>\n",
              "      <td>-0.017527</td>\n",
              "      <td>0.068191</td>\n",
              "      <td>0.063131</td>\n",
              "      <td>-0.194144</td>\n",
              "      <td>0.768156</td>\n",
              "      <td>1.000000</td>\n",
              "      <td>-0.197812</td>\n",
              "      <td>0.084068</td>\n",
              "    </tr>\n",
              "    <tr>\n",
              "      <th>calculated_host_listings_count</th>\n",
              "      <td>0.141969</td>\n",
              "      <td>0.098235</td>\n",
              "      <td>0.085966</td>\n",
              "      <td>0.133100</td>\n",
              "      <td>-0.283633</td>\n",
              "      <td>0.319189</td>\n",
              "      <td>-0.231552</td>\n",
              "      <td>-0.197812</td>\n",
              "      <td>1.000000</td>\n",
              "      <td>0.061911</td>\n",
              "    </tr>\n",
              "    <tr>\n",
              "      <th>availability_365</th>\n",
              "      <td>-0.034818</td>\n",
              "      <td>-0.041393</td>\n",
              "      <td>0.028180</td>\n",
              "      <td>-0.013536</td>\n",
              "      <td>0.015622</td>\n",
              "      <td>0.023679</td>\n",
              "      <td>0.079318</td>\n",
              "      <td>0.084068</td>\n",
              "      <td>0.061911</td>\n",
              "      <td>1.000000</td>\n",
              "    </tr>\n",
              "  </tbody>\n",
              "</table>\n",
              "</div>"
            ],
            "text/plain": [
              "                                      id  ...  availability_365\n",
              "id                              1.000000  ...         -0.034818\n",
              "host_id                         0.634373  ...         -0.041393\n",
              "latitude                       -0.013480  ...          0.028180\n",
              "longitude                       0.097576  ...         -0.013536\n",
              "price                          -0.009748  ...          0.015622\n",
              "minimum_nights                 -0.163636  ...          0.023679\n",
              "number_of_reviews              -0.582700  ...          0.079318\n",
              "reviews_per_month              -0.092487  ...          0.084068\n",
              "calculated_host_listings_count  0.141969  ...          0.061911\n",
              "availability_365               -0.034818  ...          1.000000\n",
              "\n",
              "[10 rows x 10 columns]"
            ]
          },
          "metadata": {
            "tags": []
          }
        }
      ]
    },
    {
      "cell_type": "code",
      "metadata": {
        "id": "91UujDr6ueqE",
        "colab_type": "code",
        "colab": {
          "base_uri": "https://localhost:8080/",
          "height": 411
        },
        "outputId": "e58f4b97-29c9-4dbc-d820-dffd0491827a"
      },
      "source": [
        "# plotar um heatmap a partir das correlações\n",
        "\n",
        "sns.heatmap(corr, cmap='RdBu', fmt='.2f', square=True, linecolor='white', annot=True);\n"
      ],
      "execution_count": 8,
      "outputs": [
        {
          "output_type": "display_data",
          "data": {
            "image/png": "[encoded data removed]",
            "text/plain": [
              "<Figure size 432x288 with 2 Axes>"
            ]
          },
          "metadata": {
            "tags": [],
            "needs_background": "light"
          }
        }
      ]
    },
    {
      "cell_type": "markdown",
      "metadata": {
        "id": "7b6RMWpuHKN-",
        "colab_type": "text"
      },
      "source": [
        "### **Q5. Qual o tipo de imóvel mais alugado no Airbnb?**\n",
        "\n",
        "A coluna da variável room_type indica o tipo de locação que está anunciada no Airbnb. Se você já alugou no site, sabe que existem opções de apartamentos/casas inteiras, apenas o aluguel de um quarto ou mesmo dividir o quarto com outras pessoas.\n",
        "\n",
        "Vamos contar a quantidade de ocorrências de cada tipo de aluguel, usando o método value_counts()."
      ]
    },
    {
      "cell_type": "code",
      "metadata": {
        "id": "ueLPNWvPHgfB",
        "colab_type": "code",
        "colab": {
          "base_uri": "https://localhost:8080/",
          "height": 108
        },
        "outputId": "287a278c-737a-482a-e86e-8d127686aadf"
      },
      "source": [
        "# mostrar a quantidade de cada tipo de imóvel disponível\n",
        "\n",
        "df_clean.room_type.value_counts()\n"
      ],
      "execution_count": 9,
      "outputs": [
        {
          "output_type": "execute_result",
          "data": {
            "text/plain": [
              "Private room       939\n",
              "Shared room        533\n",
              "Entire home/apt    508\n",
              "Hotel room         217\n",
              "Name: room_type, dtype: int64"
            ]
          },
          "metadata": {
            "tags": []
          },
          "execution_count": 9
        }
      ]
    },
    {
      "cell_type": "code",
      "metadata": {
        "id": "EvwoO-XAHhIm",
        "colab_type": "code",
        "colab": {
          "base_uri": "https://localhost:8080/",
          "height": 108
        },
        "outputId": "a1d90e8b-0eaf-4d47-ed77-a060b4c9799e"
      },
      "source": [
        "# mostrar a porcentagem de cada tipo de imóvel disponível\n",
        "\n",
        "df_clean.room_type.value_counts() / df_clean.shape[0]"
      ],
      "execution_count": 13,
      "outputs": [
        {
          "output_type": "execute_result",
          "data": {
            "text/plain": [
              "Private room       0.427401\n",
              "Shared room        0.242604\n",
              "Entire home/apt    0.231224\n",
              "Hotel room         0.098771\n",
              "Name: room_type, dtype: float64"
            ]
          },
          "metadata": {
            "tags": []
          },
          "execution_count": 13
        }
      ]
    },
    {
      "cell_type": "markdown",
      "metadata": {
        "id": "MFa5NbnLJMcd",
        "colab_type": "text"
      },
      "source": [
        "### **Q6. Qual a localidade mais cara de Tokyo?**\n",
        "\n",
        "Uma maneira de se verificar uma variável em função da outra é usando `groupby()`. No caso, queremos comparar os bairros (*neighbourhoods*) a partir do preço de locação.\n",
        "\n"
      ]
    },
    {
      "cell_type": "code",
      "metadata": {
        "id": "MD_xa143JZpi",
        "colab_type": "code",
        "colab": {
          "base_uri": "https://localhost:8080/",
          "height": 235
        },
        "outputId": "359c1c37-73fc-45a5-a082-5f49e55c7962"
      },
      "source": [
        "# ver preços por bairros, na média\n",
        "\n",
        "df_clean.groupby(['neighbourhood']).price.mean().sort_values(ascending=False)[:10]\n"
      ],
      "execution_count": 14,
      "outputs": [
        {
          "output_type": "execute_result",
          "data": {
            "text/plain": [
              "neighbourhood\n",
              "Akiruno Shi            4670.333333\n",
              "Oshima Machi           4505.000000\n",
              "Koganei Shi            4492.000000\n",
              "Tama Shi               4406.400000\n",
              "Hachijo Machi          4362.000000\n",
              "Setagaya Ku            4268.298507\n",
              "Chofu Shi              4186.285714\n",
              "Musashino Shi          4066.500000\n",
              "Kodaira Shi            4064.600000\n",
              "Higashimurayama Shi    3972.857143\n",
              "Name: price, dtype: float64"
            ]
          },
          "metadata": {
            "tags": []
          },
          "execution_count": 14
        }
      ]
    },
    {
      "cell_type": "markdown",
      "metadata": {
        "id": "TyWjeA9_kMg9",
        "colab_type": "text"
      },
      "source": [
        "Acima, vemos que bairros como Akiruno Shi , Oshima Machi   estão com média de preço superior.\n",
        "\n",
        "Uma pessoa que não conhecesse Tokyo poderia apresentar esses resultados sem se questionar. Só para dar um único exemplo de como uma amostra pode ser não-representativa, veja quantas entradas há para o Akiruno Shi."
      ]
    },
    {
      "cell_type": "code",
      "metadata": {
        "id": "v8Uszve2j9L4",
        "colab_type": "code",
        "colab": {
          "base_uri": "https://localhost:8080/",
          "height": 771
        },
        "outputId": "7725653e-e39f-4687-cd71-33a110e1db1b"
      },
      "source": [
        "# ver quantidade de imóveis no Akiruno Shi\n",
        "print(df_clean[df_clean.neighbourhood == \"Akiruno Shi\"].shape)\n",
        "\n",
        "# ver as 3 entradas do Akiruno Shi\n",
        "df_clean[df_clean.neighbourhood == \"Akiruno Shi\"]"
      ],
      "execution_count": 17,
      "outputs": [
        {
          "output_type": "stream",
          "text": [
            "(9, 15)\n"
          ],
          "name": "stdout"
        },
        {
          "output_type": "execute_result",
          "data": {
            "text/html": [
              "<div>\n",
              "<style scoped>\n",
              "    .dataframe tbody tr th:only-of-type {\n",
              "        vertical-align: middle;\n",
              "    }\n",
              "\n",
              "    .dataframe tbody tr th {\n",
              "        vertical-align: top;\n",
              "    }\n",
              "\n",
              "    .dataframe thead th {\n",
              "        text-align: right;\n",
              "    }\n",
              "</style>\n",
              "<table border=\"1\" class=\"dataframe\">\n",
              "  <thead>\n",
              "    <tr style=\"text-align: right;\">\n",
              "      <th></th>\n",
              "      <th>id</th>\n",
              "      <th>name</th>\n",
              "      <th>host_id</th>\n",
              "      <th>host_name</th>\n",
              "      <th>neighbourhood</th>\n",
              "      <th>latitude</th>\n",
              "      <th>longitude</th>\n",
              "      <th>room_type</th>\n",
              "      <th>price</th>\n",
              "      <th>minimum_nights</th>\n",
              "      <th>number_of_reviews</th>\n",
              "      <th>last_review</th>\n",
              "      <th>reviews_per_month</th>\n",
              "      <th>calculated_host_listings_count</th>\n",
              "      <th>availability_365</th>\n",
              "    </tr>\n",
              "  </thead>\n",
              "  <tbody>\n",
              "    <tr>\n",
              "      <th>217</th>\n",
              "      <td>6122133</td>\n",
              "      <td>NO-1  Mountains,Onsen and Jp-Cuisine in Tokyo!</td>\n",
              "      <td>28596639</td>\n",
              "      <td>Tatsuhiro</td>\n",
              "      <td>Akiruno Shi</td>\n",
              "      <td>35.72939</td>\n",
              "      <td>139.28372</td>\n",
              "      <td>Private room</td>\n",
              "      <td>4920</td>\n",
              "      <td>1</td>\n",
              "      <td>199</td>\n",
              "      <td>2020-02-25</td>\n",
              "      <td>3.28</td>\n",
              "      <td>5</td>\n",
              "      <td>342</td>\n",
              "    </tr>\n",
              "    <tr>\n",
              "      <th>306</th>\n",
              "      <td>7430129</td>\n",
              "      <td>LEGALCOURT Hideaways</td>\n",
              "      <td>38919757</td>\n",
              "      <td>Max Masaking</td>\n",
              "      <td>Akiruno Shi</td>\n",
              "      <td>35.72626</td>\n",
              "      <td>139.29516</td>\n",
              "      <td>Entire home/apt</td>\n",
              "      <td>3957</td>\n",
              "      <td>1</td>\n",
              "      <td>24</td>\n",
              "      <td>2020-02-23</td>\n",
              "      <td>0.62</td>\n",
              "      <td>7</td>\n",
              "      <td>0</td>\n",
              "    </tr>\n",
              "    <tr>\n",
              "      <th>351</th>\n",
              "      <td>8053973</td>\n",
              "      <td>NO-3 The mountains,Onsen and Cuisine in Tokyo!</td>\n",
              "      <td>28596639</td>\n",
              "      <td>Tatsuhiro</td>\n",
              "      <td>Akiruno Shi</td>\n",
              "      <td>35.72927</td>\n",
              "      <td>139.28398</td>\n",
              "      <td>Private room</td>\n",
              "      <td>4920</td>\n",
              "      <td>1</td>\n",
              "      <td>75</td>\n",
              "      <td>2019-11-18</td>\n",
              "      <td>1.56</td>\n",
              "      <td>5</td>\n",
              "      <td>254</td>\n",
              "    </tr>\n",
              "    <tr>\n",
              "      <th>352</th>\n",
              "      <td>8054021</td>\n",
              "      <td>NO-2 The mountains,Onsen and Cuisine in Tokyo!</td>\n",
              "      <td>28596639</td>\n",
              "      <td>Tatsuhiro</td>\n",
              "      <td>Akiruno Shi</td>\n",
              "      <td>35.72927</td>\n",
              "      <td>139.28398</td>\n",
              "      <td>Private room</td>\n",
              "      <td>4920</td>\n",
              "      <td>1</td>\n",
              "      <td>148</td>\n",
              "      <td>2020-04-06</td>\n",
              "      <td>2.60</td>\n",
              "      <td>5</td>\n",
              "      <td>350</td>\n",
              "    </tr>\n",
              "    <tr>\n",
              "      <th>3685</th>\n",
              "      <td>26271788</td>\n",
              "      <td>LEGALCOURTⅡ Hideaways</td>\n",
              "      <td>38919757</td>\n",
              "      <td>Max Masaking</td>\n",
              "      <td>Akiruno Shi</td>\n",
              "      <td>35.72810</td>\n",
              "      <td>139.29486</td>\n",
              "      <td>Entire home/apt</td>\n",
              "      <td>4492</td>\n",
              "      <td>1</td>\n",
              "      <td>16</td>\n",
              "      <td>2020-03-22</td>\n",
              "      <td>0.79</td>\n",
              "      <td>7</td>\n",
              "      <td>0</td>\n",
              "    </tr>\n",
              "    <tr>\n",
              "      <th>7278</th>\n",
              "      <td>32844780</td>\n",
              "      <td>Akigawa JR 160m SEREGA201 Tokyo suburb 2ppl loft</td>\n",
              "      <td>38919757</td>\n",
              "      <td>Max Masaking</td>\n",
              "      <td>Akiruno Shi</td>\n",
              "      <td>35.73061</td>\n",
              "      <td>139.28474</td>\n",
              "      <td>Entire home/apt</td>\n",
              "      <td>4492</td>\n",
              "      <td>2</td>\n",
              "      <td>9</td>\n",
              "      <td>2020-04-14</td>\n",
              "      <td>0.96</td>\n",
              "      <td>7</td>\n",
              "      <td>261</td>\n",
              "    </tr>\n",
              "    <tr>\n",
              "      <th>7613</th>\n",
              "      <td>33373279</td>\n",
              "      <td>NO-4 The mountains,Onsen and Cuisine in Tokyo!</td>\n",
              "      <td>28596639</td>\n",
              "      <td>Tatsuhiro</td>\n",
              "      <td>Akiruno Shi</td>\n",
              "      <td>35.73041</td>\n",
              "      <td>139.28464</td>\n",
              "      <td>Private room</td>\n",
              "      <td>4920</td>\n",
              "      <td>1</td>\n",
              "      <td>5</td>\n",
              "      <td>2019-12-26</td>\n",
              "      <td>0.58</td>\n",
              "      <td>5</td>\n",
              "      <td>339</td>\n",
              "    </tr>\n",
              "    <tr>\n",
              "      <th>7714</th>\n",
              "      <td>33496096</td>\n",
              "      <td>The mountains, Onsen and cuisine in Tokyo !</td>\n",
              "      <td>28596639</td>\n",
              "      <td>Tatsuhiro</td>\n",
              "      <td>Akiruno Shi</td>\n",
              "      <td>35.72815</td>\n",
              "      <td>139.28292</td>\n",
              "      <td>Private room</td>\n",
              "      <td>4920</td>\n",
              "      <td>1</td>\n",
              "      <td>2</td>\n",
              "      <td>2019-11-12</td>\n",
              "      <td>0.29</td>\n",
              "      <td>5</td>\n",
              "      <td>347</td>\n",
              "    </tr>\n",
              "    <tr>\n",
              "      <th>10930</th>\n",
              "      <td>38874850</td>\n",
              "      <td>Akigawa JR 160m SEREGA102 Tokyo suburb 2ppl loft</td>\n",
              "      <td>38919757</td>\n",
              "      <td>Max Masaking</td>\n",
              "      <td>Akiruno Shi</td>\n",
              "      <td>35.72878</td>\n",
              "      <td>139.28637</td>\n",
              "      <td>Entire home/apt</td>\n",
              "      <td>4492</td>\n",
              "      <td>1</td>\n",
              "      <td>8</td>\n",
              "      <td>2020-04-24</td>\n",
              "      <td>1.17</td>\n",
              "      <td>7</td>\n",
              "      <td>175</td>\n",
              "    </tr>\n",
              "  </tbody>\n",
              "</table>\n",
              "</div>"
            ],
            "text/plain": [
              "             id  ... availability_365\n",
              "217     6122133  ...              342\n",
              "306     7430129  ...                0\n",
              "351     8053973  ...              254\n",
              "352     8054021  ...              350\n",
              "3685   26271788  ...                0\n",
              "7278   32844780  ...              261\n",
              "7613   33373279  ...              339\n",
              "7714   33496096  ...              347\n",
              "10930  38874850  ...              175\n",
              "\n",
              "[9 rows x 15 columns]"
            ]
          },
          "metadata": {
            "tags": []
          },
          "execution_count": 17
        }
      ]
    },
    {
      "cell_type": "markdown",
      "metadata": {
        "id": "omOQG_mPjT0B",
        "colab_type": "text"
      },
      "source": [
        "Como são fornecidas as Latitudes e Longitudes para os imóveis, é possível plotar cada ponto. Para isso, considera-se `x=longitude` e `y=latitude`."
      ]
    },
    {
      "cell_type": "code",
      "metadata": {
        "id": "UxVJqJ_3W59I",
        "colab_type": "code",
        "colab": {
          "base_uri": "https://localhost:8080/",
          "height": 472
        },
        "outputId": "1752dc39-0c34-4912-e3a0-a8c07828e5b9"
      },
      "source": [
        "# plotar os imóveis pela latitude-longitude\n",
        "\n",
        "df_clean.plot(kind=\"scatter\", x='longitude', y='latitude', alpha=0.4, c=df_clean['price'], s=8,\n",
        "              cmap=plt.get_cmap('jet'), figsize=(12,8));\n"
      ],
      "execution_count": 15,
      "outputs": [
        {
          "output_type": "display_data",
          "data": {
            "image/png": "[encoded data removed]",
            "text/plain": [
              "<Figure size 864x576 with 2 Axes>"
            ]
          },
          "metadata": {
            "tags": [],
            "needs_background": "light"
          }
        }
      ]
    },
    {
      "cell_type": "markdown",
      "metadata": {
        "id": "vTneAMRUYvr1",
        "colab_type": "text"
      },
      "source": [
        "### **Q7. Qual é a média do mínimo de noites para aluguel (minimum_nights)?**"
      ]
    },
    {
      "cell_type": "code",
      "metadata": {
        "id": "_VzNhrEgY82N",
        "colab_type": "code",
        "colab": {
          "base_uri": "https://localhost:8080/",
          "height": 35
        },
        "outputId": "f4f36b8b-4cca-462a-efb9-aad8bdc25a40"
      },
      "source": [
        "# ver a média da coluna `minimum_nights``\n",
        "\n",
        "df_clean.minimum_nights.mean()"
      ],
      "execution_count": 16,
      "outputs": [
        {
          "output_type": "execute_result",
          "data": {
            "text/plain": [
              "4.7655894401456536"
            ]
          },
          "metadata": {
            "tags": []
          },
          "execution_count": 16
        }
      ]
    },
    {
      "cell_type": "markdown",
      "metadata": {
        "id": "GkvAg623RjoR",
        "colab_type": "text"
      },
      "source": [
        "## Conclusões\n"
      ]
    },
    {
      "cell_type": "markdown",
      "metadata": {
        "id": "rbZ3Hsy9Ypw8",
        "colab_type": "text"
      },
      "source": [
        "Foi feita apenas uma análise superficial na base de dados do Airbnb, porém já se percebeu que existem *outliers* em algumas das variáveis. \n",
        "\n",
        "Também se notou que em algumas localidades há poucos imóveis disponíveis, o que pode distorcer as informações estatísticas de alguns atributos.\n",
        "\n",
        "Por fim, lembra-se que este *dataset* é uma versão resumida, ideal apenas para uma abordagem inicial. Recomenda-se que seja usado, em uma próxima análise exploratória, o conjunto de dados completos, com 106 atributos disponíveis"
      ]
    }
  ]
}